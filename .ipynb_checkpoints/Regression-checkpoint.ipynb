{
 "cells": [
  {
   "cell_type": "markdown",
   "metadata": {},
   "source": [
    "# Machine Learining: Regression"
   ]
  },
  {
   "cell_type": "code",
   "execution_count": 1,
   "metadata": {},
   "outputs": [],
   "source": [
    "import numpy as np\n",
    "import matplotlib.pyplot as plt\n",
    "%matplotlib inline\n",
    "from scipy.stats import t as t_dis\n",
    "from scipy.stats import f as f_dis\n",
    "from termcolor import colored\n",
    "from tabulate import tabulate\n",
    "from mpl_toolkits import mplot3d"
   ]
  },
  {
   "cell_type": "markdown",
   "metadata": {},
   "source": [
    "## Simple Linear Regression\n",
    "**Idea**\\\n",
    "We want to find a linear relation between $X$ en $Y$:\n",
    "$$\n",
    "Y = \\beta_0 + \\beta_1X.\n",
    "$$\n",
    "Setting\n",
    "$\n",
    "\\hat{\\beta}_0 = b_0$ and $ \\hat{\\beta}_1 = b_1,$ we become as estimate for $y$:\n",
    "$$\n",
    "\\hat{y} = b_0 + b_1x + \\epsilon.\n",
    "$$"
   ]
  },
  {
   "cell_type": "markdown",
   "metadata": {},
   "source": [
    "**Determing $b_0$ en $b_1$ using LSM**\\\n",
    "Given the Sum of the Square Errors\n",
    "$$\n",
    "\\text{SSE} = \\sum_{i=1}^n(y_i - \\hat{y}_i)^2  = \\sum_{i=1}^n(y_i - b_0 - b_1x_i)^2.\n",
    "$$\n",
    "Making $\\text{SSE}$ minimal with respect to $b_0$ and $b_1$:\n",
    "$$\n",
    "\\frac{\\partial\\text{SSE}}{\\partial b_0} = 0,\\quad \\quad \\frac{\\partial\\text{SSE}}{\\partial b_1} = 0,  \n",
    "$$\n",
    "gives \n",
    "$$\n",
    "b_1 = \\frac{\\overline{xy} - \\overline{x}\\ \\overline{y}}{\\overline{x^2} - \\overline{x}^2}= \\frac{\\sum_{i=1}^n(x_i-\\overline{x})(y_i - \\overline{y})}{\\sum_{i=1}^n(x_i-\\overline{x})^2}, \\quad \\quad\n",
    "b_0 = \\overline{y} - b_1\\overline{x} =\\frac{\\overline{x^2}\\overline{y} - \\overline{x} \\ \\overline{xy}}{\\overline{x^2} - \\overline{x}^2}.\n",
    "$$"
   ]
  },
  {
   "cell_type": "markdown",
   "metadata": {},
   "source": [
    "**Example**"
   ]
  },
  {
   "cell_type": "code",
   "execution_count": 1,
   "metadata": {},
   "outputs": [],
   "source": [
    "class LinearRegression:\n",
    "    \n",
    "    def __init__(self, x, y, g = lambda t: t):\n",
    "        #Data\n",
    "        self.x, self.y = x, y\n",
    "        \n",
    "        #Sample size\n",
    "        self.n = len(x)\n",
    "    \n",
    "        #Linear regression function\n",
    "        self.x_a, self.y_a = np.mean(x), np.mean(y)\n",
    "        self.b1 = np.sum((x - self.x_a)*(y - self.y_a))/np.sum((x-self.x_a)**2)\n",
    "        self.b0 = self.y_a - self.b1*self.x_a\n",
    "        self.f = lambda t: self.b0 + self.b1*t\n",
    "        \n",
    "            \n",
    "        #Helping variables\n",
    "        self.y_p = self.f(self.x)                         \n",
    "        self.SST = np.sum((self.y - self.y_a)**2)         \n",
    "        self.SSE = np.sum((self.y - self.y_p)**2)        \n",
    "        self.SSR = np.sum((self.y_p - self.y_a)**2)\n",
    "        self.s = np.sqrt(self.SSE/(self.n - 2))\n",
    "        self.s_x = np.sqrt(np.sum((self.x - self.x_a)**2)/self.n)\n",
    "        \n",
    "        #Determination coefficiënt\n",
    "        self.R = np.sqrt(1 - self.SSE/self.SST)\n",
    "    \n",
    "    def __call__(self, x, ci = False, alpha = 0.05):\n",
    "        if ci == True:\n",
    "            var_y = self.s**2*(1/self.n + (x - self.x_a)**2/(self.n*self.s_x**2))\n",
    "            t0 = t_dis.ppf(1 - alpha/2, self.n - 2)\n",
    "            dy = t0*np.sqrt(var_y)\n",
    "            y_p = self.b0 + self.b1*x\n",
    "            print(f'{1 - alpha:.3f} C.I. E(Y|x): [{y_p - dy:.2f}, {y_p + dy:.2f}]')\n",
    "            \n",
    "        return self.b0 + self.b1*self.g(x)\n",
    "    \n",
    "    def analysis(self, alpha = 0.05): \n",
    "        stat = tabulate([['x', f'{self.x_a:.2f}', f'{self.x.std():.2f}'], ['y',  f'{self.y_a:.2f}', f'{self.y.std():.2f}']],headers = [colored('Type', attrs = ['bold']), colored('Mean', attrs = ['bold']), colored('Std. err.', attrs = ['bold'])])\n",
    "        \n",
    "        #Confidence interval beta_0\n",
    "        t = t_dis.ppf(1 - alpha/2, self.n - 2) \n",
    "        s = np.sqrt(self.SSE/(self.n - 2))\n",
    "        Sxx = np.sum((self.x - self.x_a)**2)\n",
    "        db0 = s/np.sqrt(self.n*Sxx)*np.sqrt(np.sum(self.x**2))*t\n",
    "  \n",
    "        #Confidence interval of b1\n",
    "        db1 = s/np.sqrt(Sxx)*t\n",
    "        s_x = np.sqrt(np.sum((self.x - self.x_a)**2)/self.n)\n",
    "        \n",
    "        #Significance of b1\n",
    "        var_b1 = s**2/(self.n*s_x**2)\n",
    "        T_b1 = self.b1/np.sqrt(var_b1)\n",
    "        p_b1 = 2*(1 - t_dis.cdf(abs(T_b1), self.n - 2))\n",
    "        \n",
    "        #Significance of regression model\n",
    "        F = self.SSR/s**2\n",
    "        p = 1 - f_dis.cdf(F, 1, self.n-2)\n",
    "        \n",
    "        table_coeff = tabulate([['b0', f'{self.b0:.2f}', f'[{self.b0-db0:.2f}, {self.b0+db0:.2f}]', '\\ ', '\\ '], ['b1', f'{self.b1:.2f}', f'[{self.b1-db1:.2f}, {self.b1+db1:.2f}]', f'{T_b1:.2f}', f'{p_b1:.2f}']], headers = [colored('Coeff', attrs = ['bold']), colored('Value', attrs = ['bold']), colored(f'{1 - alpha:.3f}% C.I.', attrs = ['bold']), colored('t', attrs = ['bold']), colored('p-value', attrs = ['bold'])])\n",
    "        \n",
    "        table_anova = tabulate([['Regression', f'{self.SSR:.2f}', 1, f'{self.SSR:.2f}', f'{F:.2f}', f'{p:.2f}'], ['Error', f'{self.SSE:.2f}', self.n-2, f'{s**2:.2f}', '', ''], ['Total', f'{self.SST:.2f}', self.n-1, '', '', '']],headers = [colored('Source of variation', attrs = ['bold']), colored('Sum of Squares', attrs = ['bold']), colored('df', attrs = ['bold']), colored('Mean Square', attrs = ['bold']), colored('f', attrs = ['bold']), colored('p-value', attrs = ['bold'])])\n",
    "\n",
    "        #summary\n",
    "        print('Statistics\\n' + stat)\n",
    "        print('\\nCoefficients\\n' + table_coeff)\n",
    "        print('\\nVariance-analysis\\n' + table_anova)\n",
    "        \n",
    "    def RegPlot(self, alpha = 0.05, xlabel = '', ylabel = '', title = ''):\n",
    "        z = np.arange(np.min(self.x), np.max(self.x), 0.01)\n",
    "        \n",
    "        var_y = self.s**2*( 1/self.n + (z - self.x_a)**2/(self.n*self.s_x**2))\n",
    "        t0 = t_dis.ppf(1 - alpha/2, self.n - 2)\n",
    "        dy = t0*np.sqrt(var_y)\n",
    "        \n",
    "        fig, axes = plt.subplots(1, figsize = (10, 5))\n",
    "        \n",
    "        plt.title(title, fontsize = 14)\n",
    "        plt.xlabel(xlabel, size = 12)\n",
    "        plt.ylabel(ylabel, size = 12)\n",
    "        \n",
    "        Y = self.f(z)\n",
    "        plt.plot(self.x, self.y, ls = '', markersize = 6, marker = 'o', color = 'blue', label = 'measurements')\n",
    "        plt.plot(z, Y, lw = 3, color = 'red', ls = '-', label = 'regression line')\n",
    "        plt.plot(z, Y-dy, lw = 1, color = 'red', ls = '--', label = f'{1 - alpha:.3f} C.I. $E(Y|x)$')\n",
    "        plt.plot(z, Y+dy, lw = 1, color = 'red', ls = '--')\n",
    "        plt.fill_between(z, (Y - dy), (Y + dy), color = 'r', alpha=.1)\n",
    "    \n",
    "        #plt.grid()\n",
    "        plt.legend()\n",
    "        plt.show()\n",
    "    \n",
    "    def RegPlot2(self, t, g = lambda x: x, alpha = 0.05, xlabel = '', ylabel = '', title = '', color = 'red', mk = 'o', lbk = ''):\n",
    "        z = np.arange(np.min(t), np.max(t), 0.1)\n",
    "        \n",
    "        var_y = self.s**2*( 1/self.n + (z - self.x_a)**2/(self.n*self.s_x**2))\n",
    "        t0 = t_dis.ppf(1 - alpha/2, self.n - 2)\n",
    "        dy = t0*np.sqrt(var_y)\n",
    "        \n",
    "        plt.title(title, fontsize = 14)\n",
    "        plt.xlabel(xlabel, size = 12)\n",
    "        plt.ylabel(ylabel, size = 12)\n",
    "        \n",
    "        Y = (lambda x: np.log(x)*self.b1 + self.b0)(z)\n",
    "        plt.plot(t, self.y, ls = '', markersize = 6, marker = mk, color = 'blue', label = lbk)\n",
    "        plt.plot(z, Y, lw = 3, color = color, ls = '-', label = f'trendline ($R^2 = {self.R**2:.2f}$)')\n",
    "        plt.plot(z, Y - dy, lw = 1, color = color, ls = '--', label = f'{1 - alpha:.3f} C.I. $E(Y|x)$')\n",
    "        plt.plot(z, Y + dy, lw = 1, color = color, ls = '--')\n",
    "        plt.fill_between(z, (Y - dy), (Y + dy), color = 'r', alpha=.1)\n",
    "        \n",
    "    def ScatterPlot(self, f = None):\n",
    "        fig, axes = plt.subplots(1, figsize = (10, 5))\n",
    "        plt.plot(self.x, self.y, ls = '', markersize = 6, marker = 'o', color = 'blue', label = 'Measurements')\n",
    "        \n",
    "        z = np.linspace(np.min(self.x), np.max(self.x), 15)\n",
    "        \n",
    "        if f != None:\n",
    "            plt.plot(z, f(z), lw = 2.5, color = color, ls = '-', label = 'Trendline')\n",
    "            \n",
    "        #plt.grid()\n",
    "        plt.legend()\n",
    "        plt.show()\n",
    "        \n",
    "    def ResPlot(self):\n",
    "        #Residuals\n",
    "        r = self.y - self.y_p\n",
    "        \n",
    "        fig, axes = plt.subplots(1, figsize = (10, 5))\n",
    "        \n",
    "        plt.title('Residual scatter plot', fontsize = 14)\n",
    "        plt.ylabel('residuals $r$', fontsize = 14)\n",
    "        plt.xlabel(r'Predictions $\\hat{y}$', fontsize = 14)\n",
    "        \n",
    "        plt.plot(self.y_p, r, ls = '', markersize = 10, marker = 'o', color = 'blue')\n",
    "        plt.axhline(y = 0, lw = 2.5, ls = '-', color = 'red')\n",
    "        \n",
    "        plt.grid()\n",
    "        plt.show()"
   ]
  },
  {
   "cell_type": "code",
   "execution_count": 81,
   "metadata": {},
   "outputs": [],
   "source": [
    "Y = np.array([25.5, 31.2, 25.9, 38.4, 18.4, 26.7, 26.4, 25.9, 32.0, 25.2, 39.7, 35.7, 26.5])"
   ]
  },
  {
   "cell_type": "code",
   "execution_count": 82,
   "metadata": {},
   "outputs": [],
   "source": [
    "x1 = np.array([1.74, 6.32, 6.22, 10.52, 1.19, 1.22, 4.10, 6.32, 4.08, 4.15, 10.15, 1.72, 1.70])\n",
    "x2 = np.array([5.30, 5.42, 8.41, 4.63, 11.60, 5.85, 6.62, 8.72, 4.42, 7.60, 4.83, 3.12, 5.30])\n",
    "x3 = np.array([10.80, 9.40, 7.20, 8.50, 9.40, 9.90, 8.00, 9.10, 8.70, 9.20, 9.40, 7.60, 8.20])\n",
    "X = np.zeros((len(x1), 4))\n",
    "X[:, 0] = np.ones(len(x1))\n",
    "X[:, 1] = x1\n",
    "X[:, 2] = x2\n",
    "X[:, 3] = x3"
   ]
  },
  {
   "cell_type": "code",
   "execution_count": 65,
   "metadata": {},
   "outputs": [],
   "source": [
    "#l = LinearRegression(x1, Y)"
   ]
  },
  {
   "cell_type": "code",
   "execution_count": 73,
   "metadata": {
    "scrolled": true
   },
   "outputs": [],
   "source": [
    "#l.analysis()"
   ]
  },
  {
   "cell_type": "code",
   "execution_count": 74,
   "metadata": {},
   "outputs": [],
   "source": [
    "#l.RegPlot(alpha = 0.05)"
   ]
  },
  {
   "cell_type": "code",
   "execution_count": 75,
   "metadata": {},
   "outputs": [],
   "source": [
    "#l.ResPlot()"
   ]
  },
  {
   "cell_type": "code",
   "execution_count": 69,
   "metadata": {},
   "outputs": [],
   "source": [
    "#print(l(6, ci = True))"
   ]
  },
  {
   "cell_type": "markdown",
   "metadata": {},
   "source": [
    "## Multiple linear regression"
   ]
  },
  {
   "cell_type": "code",
   "execution_count": 70,
   "metadata": {},
   "outputs": [],
   "source": [
    "class MultipleLinearRegression:\n",
    "    \n",
    "    def __init__(self, X, Y):\n",
    "        #Sample size \n",
    "        self.n = len(Y)\n",
    "        \n",
    "        #Regression\n",
    "        self.Y, self.X = Y, X\n",
    "        self.C = np.linalg.inv(X.T@X)\n",
    "        self.b = self.C@X.T@Y\n",
    "        self.f = lambda x: x@self.b\n",
    "    \n",
    "        #Helping variables\n",
    "        self.y_p = self.f(self.X)\n",
    "        self.y_a = np.mean(self.Y)\n",
    "        self.SST = np.sum((self.Y - self.y_a)**2)         \n",
    "        self.SSE = np.sum((self.Y - self.y_p)**2)        \n",
    "        self.SSR = np.sum((self.y_p - self.y_a)**2)\n",
    "        self.s = np.sqrt(self.SSE/(self.n - len(self.b)))\n",
    "    \n",
    "    def __call__(self, x):\n",
    "        x0 = np.array([1] + list(x))\n",
    "        return x@self.b\n",
    "    \n",
    "    def analysis(self, alpha = 0.05):\n",
    "        #Statistics\n",
    "        st = [['x'+str(i), f'{np.mean(self.X[:,i]):.2f}', f'{self.X[:,i].std():.2f}'] for i in range(1, len(self.X[0]))]\n",
    "        st_y = ['y',  f'{np.mean(self.Y):.2f}', f'{self.Y.std():.2f}']\n",
    "        stat = tabulate([st_y] + st, headers = [colored('Type', attrs = ['bold']), colored('Mean', attrs = ['bold']), colored('Std. err.', attrs = ['bold'])])\n",
    "        \n",
    "        #Confidence intervals parameters\n",
    "        T = self.b/(self.s*np.sqrt(np.diag(self.C)))\n",
    "        t0 = t_dis.ppf(1 - alpha/2, self.n - len(self.b))\n",
    "        dT = self.s*np.sqrt(np.diag(self.C))*t0\n",
    "        p = 2*(1 - t_dis.cdf(abs(T), self.n - len(self.b)))\n",
    "        cff = [[f'b'+str(i), self.b[i], f'[{T[i] - dT[i]:.2f}, {T[i] + dT[i]:.2f}]', f'{T[i]:.2f}', f'{p[i]:.2f}'] for i in range(len(T))]\n",
    "        \n",
    "        #Anova table\n",
    "        \n",
    "        \n",
    "        \n",
    "        #Output\n",
    "        print('Statistics\\n'+stat)\n",
    "        print('\\nCoefficients\\n' + tabulate(cff, headers = [colored('Coeff', attrs = ['bold']), colored('Value', attrs = ['bold']), colored(f'{1 - alpha:.3f}% C.I.', attrs = ['bold']), colored('t', attrs = ['bold']), colored('p-value', attrs = ['bold'])]))"
   ]
  },
  {
   "cell_type": "markdown",
   "metadata": {},
   "source": [
    "**Example**"
   ]
  },
  {
   "cell_type": "code",
   "execution_count": 11,
   "metadata": {},
   "outputs": [],
   "source": [
    "#ml = MultipleLinearRegression(X, Y)"
   ]
  },
  {
   "cell_type": "code",
   "execution_count": 13,
   "metadata": {},
   "outputs": [],
   "source": [
    "#print(ml.b)"
   ]
  },
  {
   "cell_type": "code",
   "execution_count": 14,
   "metadata": {},
   "outputs": [],
   "source": [
    "#ml.analysis()"
   ]
  }
 ],
 "metadata": {
  "kernelspec": {
   "display_name": "Python 3",
   "language": "python",
   "name": "python3"
  },
  "language_info": {
   "codemirror_mode": {
    "name": "ipython",
    "version": 3
   },
   "file_extension": ".py",
   "mimetype": "text/x-python",
   "name": "python",
   "nbconvert_exporter": "python",
   "pygments_lexer": "ipython3",
   "version": "3.7.6"
  }
 },
 "nbformat": 4,
 "nbformat_minor": 4
}
